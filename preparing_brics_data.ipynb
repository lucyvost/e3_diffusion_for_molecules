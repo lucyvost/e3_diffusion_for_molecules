{
 "cells": [
  {
   "cell_type": "code",
   "execution_count": 1,
   "metadata": {},
   "outputs": [],
   "source": [
    "from rdkit import Chem\n",
    "from collections import Counter\n",
    "import os\n",
    "import pickle\n",
    "import numpy as np\n",
    "from collections import defaultdict\n",
    "\n",
    "remake_dict = False"
   ]
  },
  {
   "cell_type": "code",
   "execution_count": 5,
   "metadata": {},
   "outputs": [],
   "source": [
    "if remake_dict:\n",
    "    #make a massive dict of all the brics substructures I guess?\n",
    "    bigDict = {}\n",
    "    bigDictSmiles = {}\n",
    "    for name in os.listdir('brics'):\n",
    "        mols = []\n",
    "        smiles = []\n",
    "        for substruct in os.listdir(f'brics/{name}/'):\n",
    "            mol = Chem.MolFromMolFile(f'brics/{name}/{substruct}')\n",
    "            if mol == None:\n",
    "                continue\n",
    "        \n",
    "            mols.append(mol)\n",
    "            smiles.append(Chem.MolToSmiles(mol))\n",
    "        bigDict[name] = mols\n",
    "        bigDictSmiles[name] = smiles\n",
    "\n",
    "\n",
    "\n",
    "    #pickle these dictionaries bc they're fookin massive\n",
    "    file = open('bigDict.pkl', 'wb')\n",
    "    pickle.dump(bigDict, file)\n",
    "    file.close()\n",
    "\n",
    "\n",
    "    file2 = open('bigDictSmiles.pkl', 'wb')\n",
    "    pickle.dump(bigDictSmiles, file2)\n",
    "    file2.close()\n",
    "\n",
    "\n",
    "\n",
    "#load big dicts\n",
    "file = open('bigDict.pkl', 'rb')\n",
    "bigDict = pickle.load(file)\n",
    "file.close()\n",
    "\n",
    "\n",
    "file2 = open('bigDictSmiles.pkl', 'rb')\n",
    "bigDictSmiles = pickle.load(file2)\n",
    "file2.close()\n",
    "\n",
    "all_smiles = [item for sublist in list(bigDictSmiles.values()) for item in sublist]\n",
    "\n",
    "#I don't really want to include molecules that are just one building block..\n",
    "\n",
    "for n in list(bigDict.keys()):\n",
    "    if len(bigDict[n]) == 1:\n",
    "        del bigDict[n]\n",
    "        del bigDictSmiles[n]\n",
    "\n",
    "#rather than having a cutoff based on number of substructures included, use 'number of times appeared'\n",
    "cnt = Counter(all_smiles)\n",
    "most_common = [k for k, v in cnt.items() if v > 20]\n",
    "\n",
    "safe = []\n",
    "for sdf in bigDictSmiles.keys():\n",
    "    #check if all of the smiles of the components are included in the most_common list...\n",
    "    if all(item in most_common for item in bigDictSmiles[sdf]):\n",
    "        safe.append(sdf)\n",
    "\n",
    "\n",
    "#assign each smiles in most_common a 'charge'\n",
    "smilesCharge = {}\n",
    "counter = 0\n",
    "for smiles in most_common:\n",
    "    smilesCharge[smiles] = str(counter)\n",
    "    counter = counter + 1\n",
    "\n",
    "\n",
    "train = np.load('qm9/temp/qm9/actual_data/train.npz')\n",
    "valid = np.load('qm9/temp/qm9/actual_data/valid.npz')\n",
    "test = np.load('qm9/temp/qm9/actual_data/test.npz')\n",
    "\n",
    "#make new train test and val npz files\n",
    "# change both the position and the \"charge\" which will just be an index\n",
    "\n",
    "safe_indices = [name[len(name)-6:len(name)] for name in safe]"
   ]
  },
  {
   "cell_type": "code",
   "execution_count": 12,
   "metadata": {},
   "outputs": [],
   "source": [
    "file_names = train.files\n",
    "mystery_indices = []\n",
    "new_data = dict((el,[]) for el in file_names)\n",
    "for index in final_safe_indices:\n",
    "    #depends on the index: might be in the valid/ test sets\n",
    "    if index in train['index']:\n",
    "        split = train\n",
    "\n",
    "    if index in test['index']:\n",
    "        split = test\n",
    "\n",
    "\n",
    "    if index in valid['index']:\n",
    "        split = valid\n",
    "\n",
    "    # look it up in the dataset\n",
    "    for file in file_names:\n",
    "        if file == 'num_atoms':\n",
    "            #instead want it to be how many substructures\n",
    "            new_data[file].append(len(bigDictSmiles[f'dsgdb9nsd_{str(index).zfill(6)}']))\n",
    "\n",
    "        elif file == 'charges':\n",
    "            for smiles in bigDictSmiles[f'dsgdb9nsd_{str(index).zfill(6)}']:\n",
    "                charge = np.float(smilesCharge[smiles])\n",
    "                new_data[file].append(charge)\n",
    "        elif file == 'positions':\n",
    "            #get centroid of substructure\n",
    "            for molecule in bigDict[f'dsgdb9nsd_{str(index).zfill(6)}']:\n",
    "                pos = []\n",
    "                for i, atom in enumerate(molecule.GetAtoms()):\n",
    "                    pos.append(np.array(molecule.GetConformer().GetAtomPosition(i)))\n",
    "                centroid = np.mean(pos, axis=0)\n",
    "                new_data[file].append(centroid)\n",
    "                    \n",
    "        else:\n",
    "            #I don't think this is actually correct\n",
    "            #need to get the index of the position not index of the compound\n",
    "            try:\n",
    "                new_data[file].append(split[file][list(split['index']).index(index)])\n",
    "            except:\n",
    "                mystery_indices.append(index)"
   ]
  },
  {
   "cell_type": "code",
   "execution_count": 13,
   "metadata": {},
   "outputs": [],
   "source": []
  },
  {
   "cell_type": "code",
   "execution_count": 14,
   "metadata": {},
   "outputs": [
    {
     "data": {
      "text/plain": [
       "[[0, 1748],\n",
       " [1749, 3497],\n",
       " [3498, 5246],\n",
       " [5247, 6995],\n",
       " [6996, 8744],\n",
       " [8745, 10493],\n",
       " [10494, 12242],\n",
       " [12243, 13991],\n",
       " [13992, 15740],\n",
       " [15741, 17489],\n",
       " [17490, 19238],\n",
       " [19239, 20987],\n",
       " [20988, 22736],\n",
       " [22737, 24485],\n",
       " [24486, 26234],\n",
       " [26235, 27983],\n",
       " [27984, 29732],\n",
       " [29733, 31481],\n",
       " [31482, 33230],\n",
       " [33231, 34979]]"
      ]
     },
     "execution_count": 14,
     "metadata": {},
     "output_type": "execute_result"
    }
   ],
   "source": [
    "prev = 0\n",
    "list_indices=[]\n",
    "for n in range(20):\n",
    "    list_indices.append([prev, int(len(final_safe_indices)/20 + prev)])\n",
    "    prev = int(len(final_safe_indices)/20 + prev) + 1\n",
    "\n",
    "list_indices"
   ]
  },
  {
   "cell_type": "code",
   "execution_count": 24,
   "metadata": {},
   "outputs": [
    {
     "name": "stdout",
     "output_type": "stream",
     "text": [
      "#SBATCH -J pickle_dict_00000_01748 #TITLE_TEMPALTE\n",
      "\n"
     ]
    }
   ],
   "source": [
    "import os\n",
    "submit = True\n",
    "if submit:\n",
    "\n",
    "    with open('brics.sh') as template:\n",
    "        lines = template.readlines()\n",
    "\n",
    "    print(lines[1])\n",
    "\n",
    "    for n in range(20):\n",
    "        indices = list_indices[n]\n",
    "        lines[1] = f'#SBATCH -J brics{indices[0]}_{indices[1]} #TITLE_TEMPALTE\\n'\n",
    "        lines[17] = f'python prepare_brics_data.py --index1 {indices[0]} --index2 {indices[1]}'\n",
    "\n",
    "        f = open(f\"brics_{indices[0]}_{indices[1]}.sh\", 'w')\n",
    "        for line in lines:\n",
    "            f.write(line)\n",
    "        f.close()\n",
    "        \n",
    "        os.system(f'sbatch brics_{indices[0]}_{indices[1]}.sh')\n",
    "else:\n",
    "    for n in range(18):\n",
    "        os.system(f'scancel {99709 + n} -u vost -M srf_cpu_01')"
   ]
  },
  {
   "cell_type": "code",
   "execution_count": 15,
   "metadata": {},
   "outputs": [],
   "source": [
    "dicts = []\n",
    "for indices in list_indices:\n",
    "    file = open(f'processedWithBrics_{indices[0]}_{indices[1]}.pkl', 'rb')\n",
    "    dict_current = pickle.load(file)\n",
    "    dicts.append(dict_current)\n",
    "    file.close()\n"
   ]
  },
  {
   "cell_type": "code",
   "execution_count": 90,
   "metadata": {},
   "outputs": [],
   "source": [
    "dd = defaultdict(list)\n",
    "\n",
    "for d in dicts: # you can list as many input dicts as you want here\n",
    "    for key, value in d.items():\n",
    "        dd[key].append(value)\n",
    "\n",
    "\n"
   ]
  },
  {
   "cell_type": "code",
   "execution_count": 91,
   "metadata": {},
   "outputs": [],
   "source": [
    "new_data = dict(dd)"
   ]
  },
  {
   "cell_type": "code",
   "execution_count": 67,
   "metadata": {},
   "outputs": [],
   "source": [
    "for key in new_data.keys():\n",
    "    new_data[key] = [item for sublist in new_data[key] for item in sublist] "
   ]
  },
  {
   "cell_type": "code",
   "execution_count": 93,
   "metadata": {},
   "outputs": [
    {
     "data": {
      "text/plain": [
       "3469"
      ]
     },
     "execution_count": 93,
     "metadata": {},
     "output_type": "execute_result"
    }
   ],
   "source": [
    "len(new_data['charges'][0])"
   ]
  },
  {
   "cell_type": "code",
   "execution_count": 88,
   "metadata": {},
   "outputs": [
    {
     "data": {
      "text/plain": [
       "array([6, 1, 1, 1, 1, 0, 0, 0, 0, 0, 0, 0, 0, 0, 0, 0, 0, 0, 0, 0, 0, 0,\n",
       "       0, 0, 0, 0, 0, 0, 0])"
      ]
     },
     "execution_count": 88,
     "metadata": {},
     "output_type": "execute_result"
    }
   ],
   "source": [
    "train['charges'][0]"
   ]
  },
  {
   "cell_type": "code",
   "execution_count": 18,
   "metadata": {},
   "outputs": [],
   "source": [
    "\n"
   ]
  },
  {
   "cell_type": "code",
   "execution_count": 75,
   "metadata": {},
   "outputs": [],
   "source": [
    "#also pickle this because it also takes ages\n",
    "file = open('processedWithBrics.pkl', 'wb')\n",
    "pickle.dump(new_data, file)\n",
    "file.close()"
   ]
  },
  {
   "cell_type": "code",
   "execution_count": 17,
   "metadata": {},
   "outputs": [
    {
     "ename": "EOFError",
     "evalue": "Ran out of input",
     "output_type": "error",
     "traceback": [
      "\u001b[0;31m---------------------------------------------------------------------------\u001b[0m",
      "\u001b[0;31mEOFError\u001b[0m                                  Traceback (most recent call last)",
      "\u001b[0;32m<ipython-input-17-80c16414079f>\u001b[0m in \u001b[0;36m<module>\u001b[0;34m\u001b[0m\n\u001b[1;32m      2\u001b[0m \u001b[0mfile\u001b[0m \u001b[0;34m=\u001b[0m \u001b[0mopen\u001b[0m\u001b[0;34m(\u001b[0m\u001b[0;34m'processedWithBrics.pkl'\u001b[0m\u001b[0;34m,\u001b[0m \u001b[0;34m'rb'\u001b[0m\u001b[0;34m)\u001b[0m\u001b[0;34m\u001b[0m\u001b[0;34m\u001b[0m\u001b[0m\n\u001b[1;32m      3\u001b[0m \u001b[0;34m\u001b[0m\u001b[0m\n\u001b[0;32m----> 4\u001b[0;31m \u001b[0mnew_data\u001b[0m \u001b[0;34m=\u001b[0m \u001b[0mpickle\u001b[0m\u001b[0;34m.\u001b[0m\u001b[0mload\u001b[0m\u001b[0;34m(\u001b[0m\u001b[0mfile\u001b[0m\u001b[0;34m)\u001b[0m\u001b[0;34m\u001b[0m\u001b[0;34m\u001b[0m\u001b[0m\n\u001b[0m",
      "\u001b[0;31mEOFError\u001b[0m: Ran out of input"
     ]
    }
   ],
   "source": [
    "#also pickle this because it also takes ages\n",
    "file = open('processedWithBrics.pkl', 'rb')\n",
    "\n",
    "new_data = pickle.load(file)"
   ]
  },
  {
   "cell_type": "code",
   "execution_count": 81,
   "metadata": {},
   "outputs": [
    {
     "data": {
      "text/plain": [
       "34961"
      ]
     },
     "execution_count": 81,
     "metadata": {},
     "output_type": "execute_result"
    }
   ],
   "source": [
    "len(new_data['num_atoms'])"
   ]
  },
  {
   "cell_type": "code",
   "execution_count": 72,
   "metadata": {},
   "outputs": [
    {
     "data": {
      "text/plain": [
       "False"
      ]
     },
     "execution_count": 72,
     "metadata": {},
     "output_type": "execute_result"
    }
   ],
   "source": [
    "#list(split['index']).index(\n",
    "index in valid['index']"
   ]
  },
  {
   "cell_type": "code",
   "execution_count": 143,
   "metadata": {},
   "outputs": [],
   "source": [
    "np.savez('train.npz', **new_data)\n",
    "np.savez('test.npz', **new_data)\n",
    "np.savez('valid.npz', **new_data)"
   ]
  },
  {
   "cell_type": "code",
   "execution_count": 64,
   "metadata": {},
   "outputs": [
    {
     "data": {
      "text/plain": [
       "(array([ 190., 1300.,  413.]),\n",
       " array([1, 2, 3, 4]),\n",
       " <BarContainer object of 3 artists>)"
      ]
     },
     "execution_count": 64,
     "metadata": {},
     "output_type": "execute_result"
    },
    {
     "data": {
      "image/png": "[encoded data removed]",
      "text/plain": [
       "<Figure size 432x288 with 1 Axes>"
      ]
     },
     "metadata": {
      "needs_background": "light"
     },
     "output_type": "display_data"
    }
   ],
   "source": [
    "from matplotlib import pyplot as plt\n",
    "plt.hist(new_data['num_atoms'], bins=[1,2,3,4])"
   ]
  },
  {
   "cell_type": "code",
   "execution_count": 63,
   "metadata": {},
   "outputs": [
    {
     "name": "stdout",
     "output_type": "stream",
     "text": [
      "Oc1ccc[nH]1\n"
     ]
    }
   ],
   "source": []
  },
  {
   "cell_type": "code",
   "execution_count": 60,
   "metadata": {},
   "outputs": [],
   "source": [
    "for smiles in smilesCharge:\n",
    "    if len(smiles) == 0:\n",
    "        print('AAAAAH')"
   ]
  },
  {
   "cell_type": "code",
   "execution_count": 149,
   "metadata": {},
   "outputs": [
    {
     "data": {
      "text/plain": [
       "(1046,)"
      ]
     },
     "execution_count": 149,
     "metadata": {},
     "output_type": "execute_result"
    }
   ],
   "source": [
    "np.load('qm9/temp/qm9/train.npz')['index'].shape"
   ]
  },
  {
   "cell_type": "code",
   "execution_count": 146,
   "metadata": {},
   "outputs": [
    {
     "data": {
      "text/plain": [
       "(100000, 29)"
      ]
     },
     "execution_count": 146,
     "metadata": {},
     "output_type": "execute_result"
    }
   ],
   "source": [
    "np.load('qm9/temp/qm9/actual_data/train.npz')['charges'].shape"
   ]
  },
  {
   "cell_type": "code",
   "execution_count": null,
   "metadata": {},
   "outputs": [],
   "source": []
  }
 ],
 "metadata": {
  "kernelspec": {
   "display_name": "Python 3.7.12 ('confvae')",
   "language": "python",
   "name": "python3"
  },
  "language_info": {
   "codemirror_mode": {
    "name": "ipython",
    "version": 3
   },
   "file_extension": ".py",
   "mimetype": "text/x-python",
   "name": "python",
   "nbconvert_exporter": "python",
   "pygments_lexer": "ipython3",
   "version": "3.7.12"
  },
  "orig_nbformat": 4,
  "vscode": {
   "interpreter": {
    "hash": "e4721027b58af802e9266ff650b118566b595355e0478815486034a22906a343"
   }
  }
 },
 "nbformat": 4,
 "nbformat_minor": 2
}
